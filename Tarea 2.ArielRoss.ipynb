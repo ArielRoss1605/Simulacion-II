{
 "cells": [
  {
   "cell_type": "markdown",
   "id": "western-migration",
   "metadata": {},
   "source": [
    "# Tarea 2. \n",
    "\n",
    "## Rosas Hernández Ariel Jesús "
   ]
  },
  {
   "cell_type": "markdown",
   "id": "intensive-throw",
   "metadata": {},
   "source": [
    "Calcular la integral de raiz cuadrada de arco tangente de 0 a 1, usando un método de MC similar al que usamos para estimar pi"
   ]
  },
  {
   "cell_type": "code",
   "execution_count": null,
   "id": "medical-photography",
   "metadata": {},
   "outputs": [],
   "source": [
    "from random import random \n",
    "from math import sqrt,atan\n",
    "def funcion(x):\n",
    "    return sqrt(atan(x)) #esta funcion se puede cambiar\n",
    "n=100"
   ]
  }
 ],
 "metadata": {
  "kernelspec": {
   "display_name": "Python 3",
   "language": "python",
   "name": "python3"
  },
  "language_info": {
   "codemirror_mode": {
    "name": "ipython",
    "version": 3
   },
   "file_extension": ".py",
   "mimetype": "text/x-python",
   "name": "python",
   "nbconvert_exporter": "python",
   "pygments_lexer": "ipython3",
   "version": "3.8.2"
  }
 },
 "nbformat": 4,
 "nbformat_minor": 5
}
