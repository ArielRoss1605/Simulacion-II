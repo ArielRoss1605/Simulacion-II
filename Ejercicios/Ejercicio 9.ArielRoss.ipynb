{
 "cells": [
  {
   "cell_type": "markdown",
   "id": "passive-great",
   "metadata": {},
   "source": [
    "# Ejercicio 9.\n",
    "\n",
    "## Rosas Hernández Ariel Jesús"
   ]
  },
  {
   "cell_type": "markdown",
   "id": "sexual-credit",
   "metadata": {},
   "source": [
    "Elegir al azar una ciudad de la Lista despues de hacer una mezcla.\n"
   ]
  },
  {
   "cell_type": "code",
   "execution_count": 17,
   "id": "challenging-annual",
   "metadata": {},
   "outputs": [
    {
     "name": "stdout",
     "output_type": "stream",
     "text": [
      "La cuidad que salio es: Rome\n"
     ]
    }
   ],
   "source": [
    "import random\n",
    "Lista = ['Rome','New York','London','Berlin','Moskov', 'Los Angeles','Paris','Madrid','Tokio','Toronto']\n",
    "random.shuffle(Lista)\n",
    "print(f'La cuidad que salio es: {random.choice(Lista)}')"
   ]
  },
  {
   "cell_type": "markdown",
   "id": "educated-conservation",
   "metadata": {},
   "source": [
    "Elegir al azar tres ciudades después de una mezcla."
   ]
  },
  {
   "cell_type": "code",
   "execution_count": 21,
   "id": "union-startup",
   "metadata": {},
   "outputs": [
    {
     "name": "stdout",
     "output_type": "stream",
     "text": [
      "La cuidad que salio es: Toronto\n",
      "La cuidad que salio es: London\n",
      "La cuidad que salio es: Rome\n"
     ]
    }
   ],
   "source": [
    "Lista = ['Rome','New York','London','Berlin','Moskov', 'Los Angeles','Paris','Madrid','Tokio','Toronto']\n",
    "for i in range(3):\n",
    "    random.shuffle(Lista)\n",
    "    print(f'La cuidad que salio es: {random.choice(Lista)}')"
   ]
  }
 ],
 "metadata": {
  "kernelspec": {
   "display_name": "Python 3",
   "language": "python",
   "name": "python3"
  },
  "language_info": {
   "codemirror_mode": {
    "name": "ipython",
    "version": 3
   },
   "file_extension": ".py",
   "mimetype": "text/x-python",
   "name": "python",
   "nbconvert_exporter": "python",
   "pygments_lexer": "ipython3",
   "version": "3.8.2"
  }
 },
 "nbformat": 4,
 "nbformat_minor": 5
}
