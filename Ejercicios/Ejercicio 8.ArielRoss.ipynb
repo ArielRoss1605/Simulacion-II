{
 "cells": [
  {
   "cell_type": "markdown",
   "id": "passive-earthquake",
   "metadata": {},
   "source": [
    "# Ejercicio 8.\n",
    "\n",
    "## Rosas Hernández Ariel Jesús"
   ]
  },
  {
   "cell_type": "code",
   "execution_count": 8,
   "id": "guilty-grain",
   "metadata": {},
   "outputs": [
    {
     "name": "stdout",
     "output_type": "stream",
     "text": [
      "El resultado de la integral de 0 a 1:  0.5889246103625461\n"
     ]
    }
   ],
   "source": [
    "from random import random\n",
    "from math import  exp \n",
    "def g(x):\n",
    "    return (1-x**2)**(3/2)\n",
    "n=10000000\n",
    "suma=0\n",
    "l=[]\n",
    "for i in range(n):\n",
    "    u=random()\n",
    "    suma=suma+g(u)\n",
    "    l.append(suma)\n",
    "print(\"El resultado de la integral de 0 a 1: \",suma/n)"
   ]
  },
  {
   "cell_type": "code",
   "execution_count": 9,
   "id": "greater-import",
   "metadata": {},
   "outputs": [
    {
     "name": "stdout",
     "output_type": "stream",
     "text": [
      "El resultado de la integral de 0 a 1:  93.11269186190968\n"
     ]
    }
   ],
   "source": [
    "from random import random\n",
    "from math import exp\n",
    "n=10000000\n",
    "s=0\n",
    "for i in range(n):\n",
    "    u=random()\n",
    "    s=s+exp(4*u-2)*exp((4*u-2)**2)\n",
    "print (\"El resultado de la integral de 0 a 1: \",4*s/n)"
   ]
  },
  {
   "cell_type": "code",
   "execution_count": null,
   "id": "alleged-completion",
   "metadata": {},
   "outputs": [],
   "source": []
  }
 ],
 "metadata": {
  "kernelspec": {
   "display_name": "Python 3",
   "language": "python",
   "name": "python3"
  },
  "language_info": {
   "codemirror_mode": {
    "name": "ipython",
    "version": 3
   },
   "file_extension": ".py",
   "mimetype": "text/x-python",
   "name": "python",
   "nbconvert_exporter": "python",
   "pygments_lexer": "ipython3",
   "version": "3.8.2"
  }
 },
 "nbformat": 4,
 "nbformat_minor": 5
}
