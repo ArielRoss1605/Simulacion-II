{
 "cells": [
  {
   "cell_type": "markdown",
   "id": "agricultural-enterprise",
   "metadata": {},
   "source": [
    "# Ejercicio 11.\n",
    "\n",
    "## Rosas Hernández Ariel Jesús"
   ]
  },
  {
   "cell_type": "markdown",
   "id": "provincial-clothing",
   "metadata": {},
   "source": [
    "Simular dos distribuciones de probabilidad (no la normal, no la exponencial), por el método que prefieran."
   ]
  },
  {
   "cell_type": "code",
   "execution_count": 17,
   "id": "becoming-element",
   "metadata": {},
   "outputs": [
    {
     "data": {
      "image/png": "[encoded data removed]",
      "text/plain": [
       "<Figure size 576x288 with 1 Axes>"
      ]
     },
     "metadata": {
      "needs_background": "light"
     },
     "output_type": "display_data"
    },
    {
     "name": "stdout",
     "output_type": "stream",
     "text": [
      "\n",
      "El promedio por aproximacion es:  50.0619\n",
      "\n",
      "El promedio por Esperanza es np:  50.0\n"
     ]
    }
   ],
   "source": [
    "from random import random\n",
    "import matplotlib.pyplot as plt\n",
    "def binomial (p,n):\n",
    "    u=random()\n",
    "  #formula recursiva\n",
    "    pro=(1-p)**n\n",
    "    s=pro\n",
    "    i=0\n",
    "    while s<u:\n",
    "        pro=((n-i)/(i+1))*(p/(1-p))*pro\n",
    "        s=s+pro\n",
    "        i=i+1\n",
    "    return i\n",
    "plt.figure(figsize = (8, 4))\n",
    "plt.hist([binomial(0.5, 100) for i in range(10000)],color=\"b\", bins = 100)\n",
    "plt.title('Binomial')\n",
    "plt.show()\n",
    "n=10000\n",
    "suma=0\n",
    "for i in range(n):\n",
    "    suma=suma+binomial(0.5,100)\n",
    "print(\"\\nEl promedio por aproximacion es: \",suma/n)\n",
    "print(\"\\nEl promedio por Esperanza es np: \" ,100*.5)"
   ]
  },
  {
   "cell_type": "code",
   "execution_count": 20,
   "id": "compressed-egyptian",
   "metadata": {},
   "outputs": [
    {
     "data": {
      "image/png": "[encoded data removed]",
      "text/plain": [
       "<Figure size 576x288 with 1 Axes>"
      ]
     },
     "metadata": {
      "needs_background": "light"
     },
     "output_type": "display_data"
    },
    {
     "name": "stdout",
     "output_type": "stream",
     "text": [
      "\n",
      "El promedio por aproximacion es:  5.0269\n",
      "\n",
      "La esperanza de distribucion de Poisson es igual a lamda:  5\n"
     ]
    }
   ],
   "source": [
    "#Pro es el po es el mismo caso que el binomial pero con variante poisson \n",
    "from random import random\n",
    "from math import exp,sqrt\n",
    "from statistics import mean,variance\n",
    "def poisson(lamb):\n",
    "    u=random()\n",
    "    pro=exp(-lamb)\n",
    "    s=pro\n",
    "    i=0\n",
    "    while s<u:\n",
    "        pro=(lamb/(i+1))*pro\n",
    "        s=s+pro\n",
    "        i=i+1\n",
    "    return i\n",
    "plt.figure(figsize = (8, 4))\n",
    "plt.hist([poisson(5) for i in range(10000)],color=\"r\", bins = 100)\n",
    "plt.title('Poisson')\n",
    "plt.show()\n",
    "n=10000\n",
    "suma=0\n",
    "l=[]\n",
    "for i in range(n):\n",
    "    x=poisson(5)\n",
    "    l.append(x)\n",
    "    suma=suma+x\n",
    "print(\"\\nEl promedio por aproximacion es: \", suma/n)\n",
    "print(\"\\nLa esperanza de distribucion de Poisson es igual a lamda: \", lamb)"
   ]
  },
  {
   "cell_type": "code",
   "execution_count": null,
   "id": "offshore-sculpture",
   "metadata": {},
   "outputs": [],
   "source": []
  }
 ],
 "metadata": {
  "kernelspec": {
   "display_name": "Python 3",
   "language": "python",
   "name": "python3"
  },
  "language_info": {
   "codemirror_mode": {
    "name": "ipython",
    "version": 3
   },
   "file_extension": ".py",
   "mimetype": "text/x-python",
   "name": "python",
   "nbconvert_exporter": "python",
   "pygments_lexer": "ipython3",
   "version": "3.8.2"
  }
 },
 "nbformat": 4,
 "nbformat_minor": 5
}
