{
 "cells": [
  {
   "cell_type": "markdown",
   "id": "exterior-heavy",
   "metadata": {},
   "source": [
    "# Ejercicio 2.\n",
    "\n",
    "## Rosas Hernández Ariel Jesús"
   ]
  },
  {
   "cell_type": "markdown",
   "id": "english-operator",
   "metadata": {},
   "source": [
    "Simular un sorteo de los colores blanco, negro, rojo, azul y verde.\n"
   ]
  },
  {
   "cell_type": "code",
   "execution_count": 1,
   "id": "dried-millennium",
   "metadata": {},
   "outputs": [
    {
     "name": "stdout",
     "output_type": "stream",
     "text": [
      "El color que salio es: negro\n"
     ]
    }
   ],
   "source": [
    "from random import choice\n",
    "colores= [\"blanco\",\"negro\",\"rojo\",\"azul\",\"verde\"]\n",
    "print(f'El color que salio es: {choice(colores)}')"
   ]
  },
  {
   "cell_type": "markdown",
   "id": "atomic-routine",
   "metadata": {},
   "source": [
    "Simular 5 sorteos con sustitución."
   ]
  },
  {
   "cell_type": "code",
   "execution_count": 2,
   "id": "psychological-amsterdam",
   "metadata": {},
   "outputs": [
    {
     "name": "stdout",
     "output_type": "stream",
     "text": [
      "El color que salio es: rojo\n",
      "El color que salio es: azul\n",
      "El color que salio es: rojo\n",
      "El color que salio es: negro\n",
      "El color que salio es: azul\n"
     ]
    }
   ],
   "source": [
    "from random import choice\n",
    "colores= [\"blanco\",\"negro\",\"rojo\",\"azul\",\"verde\"]\n",
    "for i in range(5):\n",
    "  print(f'El color que salio es: {choice(colores)}')"
   ]
  },
  {
   "cell_type": "code",
   "execution_count": null,
   "id": "nutritional-message",
   "metadata": {},
   "outputs": [],
   "source": []
  }
 ],
 "metadata": {
  "kernelspec": {
   "display_name": "Python 3",
   "language": "python",
   "name": "python3"
  },
  "language_info": {
   "codemirror_mode": {
    "name": "ipython",
    "version": 3
   },
   "file_extension": ".py",
   "mimetype": "text/x-python",
   "name": "python",
   "nbconvert_exporter": "python",
   "pygments_lexer": "ipython3",
   "version": "3.8.2"
  }
 },
 "nbformat": 4,
 "nbformat_minor": 5
}
