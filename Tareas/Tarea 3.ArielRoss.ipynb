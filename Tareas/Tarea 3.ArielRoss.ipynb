{
 "cells": [
  {
   "cell_type": "markdown",
   "id": "progressive-observer",
   "metadata": {},
   "source": [
    "# Tarea 3. \n",
    "\n",
    "## Rosas Hernández Ariel Jesús "
   ]
  },
  {
   "cell_type": "markdown",
   "id": "quantitative-replacement",
   "metadata": {},
   "source": [
    "Calcular la integral de raiz cuadrada de arco tangente de 0 a 1, usando un método de MC similar al que usamos para estimar pi"
   ]
  },
  {
   "cell_type": "code",
   "execution_count": 7,
   "id": "constant-poster",
   "metadata": {},
   "outputs": [
    {
     "name": "stdout",
     "output_type": "stream",
     "text": [
      "0.6264975020071353\n"
     ]
    }
   ],
   "source": [
    "from random import random \n",
    "from math import sqrt,atan\n",
    "def funcion(x):\n",
    "    return sqrt(atan(x)) #esta funcion se puede cambiar\n",
    "n=10000\n",
    "suma=0\n",
    "for i in range(n):\n",
    "    u=random()\n",
    "    suma=suma+funcion(u)\n",
    "print(suma/n)"
   ]
  },
  {
   "cell_type": "code",
   "execution_count": null,
   "id": "accomplished-madness",
   "metadata": {},
   "outputs": [],
   "source": []
  }
 ],
 "metadata": {
  "kernelspec": {
   "display_name": "Python 3",
   "language": "python",
   "name": "python3"
  },
  "language_info": {
   "codemirror_mode": {
    "name": "ipython",
    "version": 3
   },
   "file_extension": ".py",
   "mimetype": "text/x-python",
   "name": "python",
   "nbconvert_exporter": "python",
   "pygments_lexer": "ipython3",
   "version": "3.8.2"
  }
 },
 "nbformat": 4,
 "nbformat_minor": 5
}
