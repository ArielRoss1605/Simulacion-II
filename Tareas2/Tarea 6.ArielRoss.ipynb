{
 "cells": [
  {
   "cell_type": "markdown",
   "id": "civic-sunrise",
   "metadata": {},
   "source": [
    "# Tarea 6\n",
    "\n",
    "## Rosas Hernández Ariel Jesús"
   ]
  },
  {
   "cell_type": "markdown",
   "id": "coordinated-teaching",
   "metadata": {},
   "source": [
    "Escribir el código en python de las rutinas indicadas en la sección 6.2 (pp. 88-91) del libro Simulación de Sheldon Ross"
   ]
  },
  {
   "cell_type": "code",
   "execution_count": 17,
   "id": "fatal-wilderness",
   "metadata": {},
   "outputs": [
    {
     "name": "stdout",
     "output_type": "stream",
     "text": [
      "     Llegada-------Clientes                    Salida-------Clientes\n",
      "      0.00            1\n",
      "      0.73            2\n",
      "                                                 1.07           1\n",
      "      1.47            2\n",
      "                                                 1.80           1\n",
      "                                                 1.94           0\n",
      "      2.06            1\n",
      "                                                 2.07           0\n",
      "      2.34            1\n",
      "      2.55            2\n",
      "                                                 2.78           1\n",
      "                                                 3.04           0\n",
      "      3.32            1\n",
      "                                                 3.43           0\n",
      "      3.44            1\n",
      "      3.65            2\n",
      "                                                 3.97           1\n",
      "                                                 4.25           0\n",
      "      4.78            1\n",
      "                                                 4.82           0\n",
      "      5.62            1\n",
      "                                                 5.66           0\n",
      "      6.49            1\n",
      "                                                 6.68           0\n",
      "      6.79            1\n",
      "      6.91            2\n",
      "                                                 7.30           1\n",
      "      7.43            2\n",
      "      7.50            3\n",
      "      7.65            4\n",
      "                                                 8.78           3\n",
      "                                                 8.87           2\n",
      "                                                 9.90           1\n",
      "                                                10.48           0\n",
      "     11.71            1\n",
      "     11.76            2\n",
      "                                                12.12           1\n",
      "     12.76            2\n",
      "     12.93            3\n",
      "                                                13.31           2\n",
      "                                                13.40           1\n",
      "                                                14.10           0\n",
      "     15.65            1\n",
      "     15.72            2\n",
      "     16.17            3\n",
      "     16.26            4\n",
      "     16.46            5\n",
      "     16.78            6\n",
      "     17.51            7\n",
      "     17.56            8\n",
      "                                                18.03           7\n",
      "                                                18.06           6\n",
      "                                                18.18           5\n",
      "                                                18.69           4\n",
      "     19.20            5\n",
      "                                                19.32           4\n",
      "                                                19.51           3\n",
      "                                                19.81           2\n",
      "     19.95            3\n",
      "                                                20.00           2\n",
      "     20.02            3\n",
      "                                                20.19           2\n",
      "                                                20.21           1\n",
      "                                                20.42           0\n",
      "     20.46            1\n",
      "                                                20.47           0\n",
      "     20.57            1\n",
      "                                                21.19           0\n",
      "     21.63            1\n",
      "                                                21.91           0\n",
      "     24.96            1\n",
      "     25.35            2\n",
      "                                                25.41           1\n",
      "                                                25.60           0\n",
      "     25.74            1\n",
      "                                                25.81           0\n",
      "     25.99            1\n",
      "     26.07            2\n",
      "     26.61            3\n",
      "     26.90            4\n",
      "                                                27.02           3\n",
      "                                                27.35           2\n",
      "     27.68            3\n",
      "                                                27.91           2\n",
      "                                                27.96           1\n",
      "                                                28.12           0\n",
      "     29.81            1\n",
      "     29.84            2\n",
      "                                                29.94           1\n"
     ]
    },
    {
     "data": {
      "image/png": "[encoded data removed]",
      "text/plain": [
       "<Figure size 432x288 with 1 Axes>"
      ]
     },
     "metadata": {
      "needs_background": "light"
     },
     "output_type": "display_data"
    }
   ],
   "source": [
    "from math import log\n",
    "from random import random\n",
    "import matplotlib.pyplot as plt\n",
    "\n",
    "T=30       #Tiempo de la simulacion \n",
    "l_l=2      #Llegan aprox 2 usuarios por minuto\n",
    "l_s=2.2    #Las personas que son capaces de atender en el servidor es un usuario por minuto\n",
    "           #Si los datos fueran al reves no habria acomulacion de personas \n",
    "t=0        #iniciamos la simulacion en t=0\n",
    "infi=10000 #el primer tiempo de salida \n",
    "ts=infi    \n",
    "tl=0       #los tiempos de llegada de los clientes inicia en 0 \n",
    "l=0        #el numero de clientes que se encuentran en el sistema \n",
    "lt=[ ]     #lista para guardar los tiempos de llegada \n",
    "ll=[ ]     #lista para guardar lso cleintes que van llegando y saliendo \n",
    "print(\"     Llegada-------Clientes                    Salida-------Clientes\")\n",
    "while min(tl,ts)<T:\n",
    "    lt.append(t)\n",
    "    ll.append(l)\n",
    "    t=min(tl,ts)\n",
    "    lt.append(t)\n",
    "    ll.append(l)\n",
    "    if tl<=ts:\n",
    "        l=l+1\n",
    "        print(\"%10.2f\"%tl,\"          \",l)\n",
    "        tl=t+(-1/l_l)*log(random())\n",
    "        if l==1:ts=t+(-1/l_s)*log(random())\n",
    "    else:\n",
    "        l=l-1\n",
    "        print(\"                                          \",\"%10.2f\"%ts,\"         \",l)\n",
    "        if l==0:\n",
    "            ts=infi\n",
    "        else:\n",
    "            ts=t+(-(1./l_s)*log(random()))\n",
    "plt.plot(lt,ll,color=\"black\")\n",
    "plt.xlabel(\"Tiempo\")\n",
    "plt.ylabel(\"Numero de personas en el sistema\")\n",
    "plt.show()"
   ]
  },
  {
   "cell_type": "code",
   "execution_count": null,
   "id": "electrical-printer",
   "metadata": {},
   "outputs": [],
   "source": []
  }
 ],
 "metadata": {
  "kernelspec": {
   "display_name": "Python 3",
   "language": "python",
   "name": "python3"
  },
  "language_info": {
   "codemirror_mode": {
    "name": "ipython",
    "version": 3
   },
   "file_extension": ".py",
   "mimetype": "text/x-python",
   "name": "python",
   "nbconvert_exporter": "python",
   "pygments_lexer": "ipython3",
   "version": "3.8.2"
  }
 },
 "nbformat": 4,
 "nbformat_minor": 5
}
