{
 "cells": [
  {
   "cell_type": "markdown",
   "id": "liberal-henry",
   "metadata": {},
   "source": [
    "# Tarea 1.\n",
    "\n",
    "## Rosas Hernández Ariel Jesús \n",
    "\n"
   ]
  },
  {
   "cell_type": "markdown",
   "id": "fitted-drama",
   "metadata": {},
   "source": [
    "Estimar le valor de  π  usando la funcion random.\n"
   ]
  },
  {
   "cell_type": "code",
   "execution_count": 1,
   "id": "municipal-pavilion",
   "metadata": {},
   "outputs": [
    {
     "name": "stdout",
     "output_type": "stream",
     "text": [
      "El valor de pi simulado es:  3.14220\n",
      "El valor de pi computacional es:  3.14159\n"
     ]
    }
   ],
   "source": [
    "from random import random \n",
    "from math import pi\n",
    "N=100000 #numero de repeticiones\n",
    "n=0 #numero de veces que el punto cae dentro de la cuarta parte del circulo \n",
    "for i in range(N):\n",
    "    x=random()\n",
    "    y=random()\n",
    "    if x**2+y**2<1:\n",
    "        n=n+1\n",
    "print(\"El valor de pi simulado es: \",'%3.5f' % (4*n/N))\n",
    "print('El valor de pi computacional es: ','%3.5f' %pi)"
   ]
  },
  {
   "cell_type": "code",
   "execution_count": null,
   "id": "legislative-meaning",
   "metadata": {},
   "outputs": [],
   "source": []
  }
 ],
 "metadata": {
  "kernelspec": {
   "display_name": "Python 3",
   "language": "python",
   "name": "python3"
  },
  "language_info": {
   "codemirror_mode": {
    "name": "ipython",
    "version": 3
   },
   "file_extension": ".py",
   "mimetype": "text/x-python",
   "name": "python",
   "nbconvert_exporter": "python",
   "pygments_lexer": "ipython3",
   "version": "3.8.2"
  }
 },
 "nbformat": 4,
 "nbformat_minor": 5
}
