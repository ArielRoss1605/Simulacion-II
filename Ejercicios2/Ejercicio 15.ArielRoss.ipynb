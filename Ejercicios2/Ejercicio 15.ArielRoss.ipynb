{
 "cells": [
  {
   "cell_type": "markdown",
   "id": "stupid-uganda",
   "metadata": {},
   "source": [
    "# Ejercicio 15\n",
    "\n",
    "## Rosas Hernández Ariel Jesús"
   ]
  },
  {
   "cell_type": "markdown",
   "id": "stone-disney",
   "metadata": {},
   "source": [
    "¿Cómo accedemos al elemento 'c' de la lista [3, 'c'] dentro de lista?"
   ]
  },
  {
   "cell_type": "code",
   "execution_count": 1,
   "id": "shaped-pierce",
   "metadata": {},
   "outputs": [],
   "source": [
    "lista = [1,2,3,4,5, 'a', 'b', 'c', [1,2], [3, 'c']]\n"
   ]
  },
  {
   "cell_type": "code",
   "execution_count": 2,
   "id": "expanded-brunei",
   "metadata": {},
   "outputs": [
    {
     "data": {
      "text/plain": [
       "'c'"
      ]
     },
     "execution_count": 2,
     "metadata": {},
     "output_type": "execute_result"
    }
   ],
   "source": [
    "lista[9][1] #primer corchete es el lugar de la lista general "
   ]
  },
  {
   "cell_type": "markdown",
   "id": "frozen-gazette",
   "metadata": {},
   "source": [
    "Calcular el promedio de:\n",
    "\n",
    "-a\n",
    "\n",
    "\n",
    "-b\n",
    "\n",
    "\n",
    "-5a ¿Es igual a 5*(promedio de a)?\n",
    "\n",
    "\n",
    "-a + b ¿Es igual a la suma de los promedios?"
   ]
  },
  {
   "cell_type": "code",
   "execution_count": 6,
   "id": "backed-diana",
   "metadata": {},
   "outputs": [],
   "source": [
    "a = [1, 2, 3, 4, 5]\n",
    "b = [6,7,8,9,10]"
   ]
  },
  {
   "cell_type": "code",
   "execution_count": 10,
   "id": "gentle-processing",
   "metadata": {},
   "outputs": [
    {
     "name": "stdout",
     "output_type": "stream",
     "text": [
      "Promedio de a 3\n",
      "Promedio de b 8\n"
     ]
    }
   ],
   "source": [
    "from statistics import mean \n",
    "print(\"Promedio de a\",mean(a))\n",
    "print(\"Promedio de b\",mean(b))"
   ]
  },
  {
   "cell_type": "code",
   "execution_count": 12,
   "id": "after-mailing",
   "metadata": {},
   "outputs": [
    {
     "name": "stdout",
     "output_type": "stream",
     "text": [
      "[1, 2, 3, 4, 5, 1, 2, 3, 4, 5, 1, 2, 3, 4, 5, 1, 2, 3, 4, 5, 1, 2, 3, 4, 5]\n",
      "15\n"
     ]
    }
   ],
   "source": [
    "print(5*a) #repite la lista 5 veces \n",
    "print(5*mean(a)) #multiplica la media por 5 "
   ]
  },
  {
   "cell_type": "code",
   "execution_count": 14,
   "id": "supposed-setting",
   "metadata": {},
   "outputs": [
    {
     "name": "stdout",
     "output_type": "stream",
     "text": [
      "[1, 2, 3, 4, 5, 6, 7, 8, 9, 10]\n",
      "11\n",
      "5.5\n"
     ]
    }
   ],
   "source": [
    "print(a+b) #junta las dos listas en una sola lista \n",
    "print(mean(a)+mean(b)) #solo suma los valores promedios de las listas por separado \n",
    "print(mean(a+b)) #saca el promedio de las dos listas juntas como si fueran una sola "
   ]
  },
  {
   "cell_type": "markdown",
   "id": "intelligent-rocket",
   "metadata": {},
   "source": [
    "1 Generar una lista de 20 números aleatorios."
   ]
  },
  {
   "cell_type": "code",
   "execution_count": 18,
   "id": "descending-announcement",
   "metadata": {},
   "outputs": [
    {
     "name": "stdout",
     "output_type": "stream",
     "text": [
      "[0.09605815357166625, 0.268615996588885, 0.40464748977720777, 0.868786946018582, 0.41706928829441414, 0.7594790423957133, 0.6322313858344477, 0.45363735631802715, 0.4548827694719809, 0.5688436020647916, 0.9238495894788463, 0.6639472751874286, 0.6603118662520938, 0.7875078932153183, 0.36654774081456654, 0.29269516261525474, 0.23243443278809328, 0.38114545057287397, 0.6976053267415211, 0.870005518566827]\n"
     ]
    }
   ],
   "source": [
    "import random\n",
    "lista_numeros=[]\n",
    "for i in range (20):\n",
    "    lista_numeros.append(random.random())\n",
    "print(lista_numeros)"
   ]
  },
  {
   "cell_type": "markdown",
   "id": "southwest-peeing",
   "metadata": {},
   "source": [
    "2 Obtener el promedio de los 10 últimos números generados."
   ]
  },
  {
   "cell_type": "code",
   "execution_count": 19,
   "id": "utility-guyana",
   "metadata": {},
   "outputs": [
    {
     "name": "stdout",
     "output_type": "stream",
     "text": [
      "0.5876050256232823\n"
     ]
    }
   ],
   "source": [
    "print(mean(lista_numeros[10:20])) #toma los elementos de posicion 10 a la posicion 19 "
   ]
  },
  {
   "cell_type": "code",
   "execution_count": null,
   "id": "angry-jumping",
   "metadata": {},
   "outputs": [],
   "source": []
  }
 ],
 "metadata": {
  "kernelspec": {
   "display_name": "Python 3",
   "language": "python",
   "name": "python3"
  },
  "language_info": {
   "codemirror_mode": {
    "name": "ipython",
    "version": 3
   },
   "file_extension": ".py",
   "mimetype": "text/x-python",
   "name": "python",
   "nbconvert_exporter": "python",
   "pygments_lexer": "ipython3",
   "version": "3.8.2"
  }
 },
 "nbformat": 4,
 "nbformat_minor": 5
}
