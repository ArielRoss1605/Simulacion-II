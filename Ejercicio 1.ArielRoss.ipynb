{
 "cells": [
  {
   "cell_type": "markdown",
   "id": "coral-ottawa",
   "metadata": {},
   "source": [
    "# Ejercicio 1.\n",
    "\n",
    "## Rosas Hernández Ariel Jesús"
   ]
  },
  {
   "cell_type": "markdown",
   "id": "vanilla-organ",
   "metadata": {},
   "source": [
    "Usar la función random() para simular 1 volado."
   ]
  },
  {
   "cell_type": "code",
   "execution_count": 1,
   "id": "specific-melbourne",
   "metadata": {},
   "outputs": [
    {
     "name": "stdout",
     "output_type": "stream",
     "text": [
      "Aguila\n"
     ]
    }
   ],
   "source": [
    "from random import random\n",
    "def volado(n):\n",
    "    for i in range(n):\n",
    "        x=random()\n",
    "        if x>=0.5:\n",
    "            print(\"Sol\")\n",
    "        else:\n",
    "            print(\"Aguila\")\n",
    "volado(1)"
   ]
  },
  {
   "cell_type": "markdown",
   "id": "proprietary-pressure",
   "metadata": {},
   "source": [
    "Usar la función random() para simular 1000 volados."
   ]
  },
  {
   "cell_type": "code",
   "execution_count": 2,
   "id": "outstanding-mongolia",
   "metadata": {},
   "outputs": [
    {
     "name": "stdout",
     "output_type": "stream",
     "text": [
      "Cantidad de soles: 485 \n",
      "Cantidad de aguilas: 515\n"
     ]
    }
   ],
   "source": [
    "from random import random\n",
    "def volado(n):\n",
    "    l1= []\n",
    "    l2= []\n",
    "    for i in range(n):\n",
    "        x=random()\n",
    "        if x>=0.5:\n",
    "            l1.append(x)\n",
    "            #print(\"sol\")\n",
    "        else:\n",
    "            l2.append(x)\n",
    "            #print(\"aguila\")\n",
    "    return print(f'Cantidad de soles: {len(l1)} \\nCantidad de aguilas: {len(l2)}' )\n",
    "volado(1000)"
   ]
  },
  {
   "cell_type": "markdown",
   "id": "controlled-container",
   "metadata": {},
   "source": [
    "Determinar de b) la probabilidad de que ocurra \"sol\" en un volado."
   ]
  },
  {
   "cell_type": "code",
   "execution_count": 3,
   "id": "robust-chapter",
   "metadata": {},
   "outputs": [
    {
     "name": "stdout",
     "output_type": "stream",
     "text": [
      "Probabilidad que ocurra sol: 0.524 \n",
      "Probabilidad que ocurra aguila: 0.476\n"
     ]
    }
   ],
   "source": [
    "from random import random\n",
    "def volado(n):\n",
    "    l1= []\n",
    "    l2= []\n",
    "    for i in range(n):\n",
    "        x=random()\n",
    "        if x>=0.5:\n",
    "            l1.append(x)\n",
    "            #print(\"sol\")\n",
    "        else:\n",
    "            l2.append(x)\n",
    "            #print(\"aguila\")\n",
    "    return print(f'Probabilidad que ocurra sol: {len(l1)/n} \\nProbabilidad que ocurra aguila: {len(l2)/n}')\n",
    "volado(1000)"
   ]
  },
  {
   "cell_type": "code",
   "execution_count": null,
   "id": "other-arena",
   "metadata": {},
   "outputs": [],
   "source": []
  }
 ],
 "metadata": {
  "kernelspec": {
   "display_name": "Python 3",
   "language": "python",
   "name": "python3"
  },
  "language_info": {
   "codemirror_mode": {
    "name": "ipython",
    "version": 3
   },
   "file_extension": ".py",
   "mimetype": "text/x-python",
   "name": "python",
   "nbconvert_exporter": "python",
   "pygments_lexer": "ipython3",
   "version": "3.8.2"
  }
 },
 "nbformat": 4,
 "nbformat_minor": 5
}
